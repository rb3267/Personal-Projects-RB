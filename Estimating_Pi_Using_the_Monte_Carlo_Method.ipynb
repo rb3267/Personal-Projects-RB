{
 "cells": [
  {
   "cell_type": "markdown",
   "metadata": {},
   "source": [
    "## Estimating π Using the Monte-Carlo Method\n",
    "\n",
    "In my junior year of college, I took thermodynamics and statistical mechanics. We learned about the Monte-Carlo method and our homework was to estimate π using python [See the prompt below]. \n",
    "\n",
    "One way to calculate π involves randomly choosing a (x,y) point between -1 and 1 and calculating if this point falls within a unit circle. By repeating this process many times and keeping track of the number of points that fall within the unit circle, π can be estimated by comparing\n",
    "the ratios of the areas of the square and the circle.\n",
    "Write a simple program that calculates π using this approach. Estimate π for several different numbers of random points N."
   ]
  },
  {
   "cell_type": "code",
   "execution_count": 1,
   "metadata": {},
   "outputs": [],
   "source": [
    "import numpy as np\n",
    "import matplotlib.pyplot as plt\n",
    "from random import random\n"
   ]
  },
  {
   "cell_type": "code",
   "execution_count": 2,
   "metadata": {},
   "outputs": [
    {
     "data": {
      "image/png": "[encoded data removed]",
      "text/plain": [
       "<Figure size 432x288 with 1 Axes>"
      ]
     },
     "metadata": {
      "needs_background": "light"
     },
     "output_type": "display_data"
    },
    {
     "name": "stdout",
     "output_type": "stream",
     "text": [
      "N= 100\n",
      "Experimental Pi = 3.0\n",
      "Actual Pi= 3.141592653589793\n",
      "\n",
      "Error = 0.04507034144862795\n",
      "\n",
      "\n"
     ]
    }
   ],
   "source": [
    "rand_x = []\n",
    "rand_y = []\n",
    "\n",
    "N = 100\n",
    "for i in range(N):\n",
    "    #makes random value between 0 and 1\n",
    "    valuex = random()\n",
    "    #scales the random number to a value between -1 and 1\n",
    "    scaled_valuex = -1+(valuex*(1-(-1)))\n",
    "    rand_x.append(scaled_valuex)\n",
    "    \n",
    "    #makes random value between 0 and 1\n",
    "    valuey = random()\n",
    "    #scales the random number to a value between -1 and 1\n",
    "    scaled_valuey = -1+(valuey*(1-(-1)))\n",
    "    rand_y.append(scaled_valuey)\n",
    "\n",
    "    \n",
    "counter = 0\n",
    "u=0\n",
    "\n",
    "#Counts number of randomly generated points in circle\n",
    "while u < len(rand_x):\n",
    "    upper_lim = (1-rand_x[u]**2)**.5\n",
    "    lower_lim = -(1-rand_x[u]**2)**.5\n",
    "    if (upper_lim>rand_y[u] and lower_lim<rand_y[u]):\n",
    "        counter = counter + 1\n",
    "    u = u+1\n",
    "\n",
    "#Plots circle and randomly generated points\n",
    "fig, ax = plt.subplots()\n",
    "\n",
    "ax.plot(rand_x, rand_y, 'o') \n",
    "cir = plt.Circle((0,0), 1, color='r',fill=False)\n",
    "ax.set_aspect(1, adjustable='box',)\n",
    "ax.add_patch(cir)\n",
    "\n",
    "plt.xlim([-1, 1])\n",
    "plt.ylim([-1, 1])\n",
    "\n",
    "plt.axhline(y=0, color='k', linestyle='--')\n",
    "plt.axvline(x=0, color='k', linestyle='--')\n",
    "plt.show()\n",
    "\n",
    "print(\"N=\", N) \n",
    "#Calculates pi using the Monte-Carlo Method\n",
    "MPi = counter/len(rand_x)*4\n",
    "print(\"Experimental Pi =\", MPi)\n",
    "print(\"Actual Pi=\", np.pi)\n",
    "print()\n",
    "#Calculates Error\n",
    "Error =  abs(MPi - np.pi)/np.pi\n",
    "print(\"Error =\", Error)\n",
    "print()\n",
    "print()"
   ]
  },
  {
   "cell_type": "markdown",
   "metadata": {},
   "source": [
    "Increasing the random points (N) leads to a better estimate of π."
   ]
  },
  {
   "cell_type": "code",
   "execution_count": null,
   "metadata": {},
   "outputs": [],
   "source": []
  }
 ],
 "metadata": {
  "kernelspec": {
   "display_name": "Python 3",
   "language": "python",
   "name": "python3"
  },
  "language_info": {
   "codemirror_mode": {
    "name": "ipython",
    "version": 3
   },
   "file_extension": ".py",
   "mimetype": "text/x-python",
   "name": "python",
   "nbconvert_exporter": "python",
   "pygments_lexer": "ipython3",
   "version": "3.7.1"
  }
 },
 "nbformat": 4,
 "nbformat_minor": 2
}
