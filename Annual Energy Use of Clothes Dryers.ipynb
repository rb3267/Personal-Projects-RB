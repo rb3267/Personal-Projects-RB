{
 "cells": [
  {
   "cell_type": "markdown",
   "metadata": {},
   "source": [
    "## Annual Energy Use of Residential Clothes Dryers Based on Heat Pump Technologies\n",
    "\n",
    "**Objective:**\n",
    "\n",
    "The goal of this program is to graph the annual energy use of EnergySTAR certified clothes dryers based on the type of heat pump technology used: Heat Pump, Hybrid Heat Pump, or None\n",
    "\n",
    "**Background:**\n",
    "\n",
    "A significant portion of residential electricity use is from technology that transfers heat through a fluid! This includes stovetops, ovens, washing machines, dryers, and Heating/AC systems.\n",
    "\n",
    "Clothes dryers are energy-consuming appliances used in most American homes. They dry clothes through heat convection from the movement of heated air to evaporate moisture from laundry. Considering that 70% of American households use dryers and each of them run about 283 cycles per year, 7.8x10^10 lbs of CO2 are emitted annually by drying clothes alone. \n",
    "The U.S. Environmental Protection agency has programs like EnergySTAR to promote energy efficient appliances to consumers. Manufacturers create appliances that are EnergySTAR certified by exploring methods that intensify the effects of heat convection. One new technology that is being explored is *heat pump technology*, that entails the recirculation of heated air.\n",
    "\n",
    "The data is provided by the U.S. Environmental Protection Agency and was access through Data.gov\n",
    "\n",
    "https://catalog.data.gov/dataset/energy-star-certified-residential-clothes-dryers"
   ]
  },
  {
   "cell_type": "code",
   "execution_count": 1,
   "metadata": {},
   "outputs": [
    {
     "name": "stderr",
     "output_type": "stream",
     "text": [
      "C:\\Users\\Reshma Brown\\Anaconda3\\lib\\site-packages\\pandas\\compat\\_optional.py:138: UserWarning: Pandas requires version '2.7.0' or newer of 'numexpr' (version '2.6.8' currently installed).\n",
      "  warnings.warn(msg, UserWarning)\n"
     ]
    }
   ],
   "source": [
    "import pandas as pd\n",
    "import numpy as np\n",
    "import matplotlib.pyplot as plt"
   ]
  },
  {
   "cell_type": "code",
   "execution_count": 2,
   "metadata": {},
   "outputs": [
    {
     "name": "stdout",
     "output_type": "stream",
     "text": [
      "<class 'pandas.core.frame.DataFrame'>\n",
      "RangeIndex: 494 entries, 0 to 493\n",
      "Data columns (total 35 columns):\n",
      " #   Column                                                             Non-Null Count  Dtype  \n",
      "---  ------                                                             --------------  -----  \n",
      " 0   ENERGY STAR Unique ID                                              494 non-null    int64  \n",
      " 1   Brand Name                                                         494 non-null    object \n",
      " 2   Model Name                                                         494 non-null    object \n",
      " 3   Model Number                                                       494 non-null    object \n",
      " 4   Additional Model Information                                       71 non-null     object \n",
      " 5   UPC                                                                369 non-null    object \n",
      " 6   Product Type                                                       494 non-null    object \n",
      " 7   Fuel Type                                                          494 non-null    object \n",
      " 8   Special Type                                                       7 non-null      object \n",
      " 9   Heat Pump Technology                                               40 non-null     object \n",
      " 10  Voltage (V)                                                        58 non-null     float64\n",
      " 11  Drum Capacity (cu-ft)                                              494 non-null    float64\n",
      " 12  Height (inches)                                                    494 non-null    float64\n",
      " 13  Width (inches)                                                     494 non-null    float64\n",
      " 14  Depth (inches)                                                     494 non-null    float64\n",
      " 15  Combined Energy Factor (CEF)                                       494 non-null    float64\n",
      " 16  Estimated Annual Energy Use (kWh/yr)                               494 non-null    int64  \n",
      " 17  Estimated Energy Test Cycle Time (min)                             494 non-null    int64  \n",
      " 18  Energy Test Cycle Information                                      494 non-null    object \n",
      " 19  Additional Dryer Features                                          494 non-null    object \n",
      " 20  Vented or Ventless                                                 494 non-null    object \n",
      " 21  Refrigerant Type                                                   9 non-null      object \n",
      " 22  Refrigerant with GWP                                               9 non-null      object \n",
      " 23  Connected                                                          494 non-null    object \n",
      " 24  Connects Using                                                     10 non-null     object \n",
      " 25  Communication Standard - Application Layer                         9 non-null      object \n",
      " 26  Direct on-premises Open-standard Based Interconnection             14 non-null     object \n",
      " 27  Calculated Combined Energy Factor - Max Dryness Setting (lbs/kWh)  37 non-null     float64\n",
      " 28  Paired ENERGY STAR Clothes Washer Available                        451 non-null    object \n",
      " 29  Paired ENERGY STAR Clothes Washer ENERGY STAR Model Identifier     278 non-null    object \n",
      " 30  Date Available on Market                                           494 non-null    object \n",
      " 31  Date Certified                                                     494 non-null    object \n",
      " 32  Markets                                                            494 non-null    object \n",
      " 33  CB Model Identifier                                                494 non-null    object \n",
      " 34  Meets ENERGY STAR Most Efficient 2023 Criteria                     494 non-null    object \n",
      "dtypes: float64(7), int64(3), object(25)\n",
      "memory usage: 86.9+ KB\n"
     ]
    }
   ],
   "source": [
    "df = pd.read_csv(f'ENERGY_STAR_Certified_Residential_Clothes_Dryers (1).csv')\n",
    "df.info()"
   ]
  },
  {
   "cell_type": "code",
   "execution_count": 3,
   "metadata": {},
   "outputs": [],
   "source": [
    "#Make new dataframe with relavent information\n",
    "#First column is type of heat pump technology and second column in estimated energy use\n",
    "data = pd.DataFrame(df['Heat Pump Technology'])\n",
    "data['Estimated Annual Energy Use (kWh/yr)'] = df['Estimated Annual Energy Use (kWh/yr)']\n"
   ]
  },
  {
   "cell_type": "code",
   "execution_count": 4,
   "metadata": {},
   "outputs": [],
   "source": [
    "#Make new dataframes with filtered data. The first column is filtered for 'Hybrid Heat Pump'\n",
    "value ='Hybrid Heat Pump'\n",
    "HHP = data.query(\"`Heat Pump Technology` == @value\")\n",
    "HHP = HHP.reset_index()\n"
   ]
  },
  {
   "cell_type": "code",
   "execution_count": 5,
   "metadata": {},
   "outputs": [],
   "source": [
    "#NaN is not awknowledged by Python. All of these null values are replaced with 'None'\n",
    "data['Heat Pump Technology'] = data['Heat Pump Technology'].replace(np.nan, 'None')\n",
    "#The first column is filtered for 'None'\n",
    "value ='None'\n",
    "NA = data.query(\"`Heat Pump Technology` == @value\")\n",
    "NA = NA.reset_index()\n"
   ]
  },
  {
   "cell_type": "code",
   "execution_count": 6,
   "metadata": {},
   "outputs": [],
   "source": [
    "#The first column is filtered for 'Heat Pump'\n",
    "value = 'Heat Pump'\n",
    "HP = data.query(\"`Heat Pump Technology` == @value\")\n",
    "HP = HP.reset_index()\n"
   ]
  },
  {
   "cell_type": "code",
   "execution_count": 7,
   "metadata": {},
   "outputs": [
    {
     "data": {
      "text/html": [
       "<div>\n",
       "<style scoped>\n",
       "    .dataframe tbody tr th:only-of-type {\n",
       "        vertical-align: middle;\n",
       "    }\n",
       "\n",
       "    .dataframe tbody tr th {\n",
       "        vertical-align: top;\n",
       "    }\n",
       "\n",
       "    .dataframe thead th {\n",
       "        text-align: right;\n",
       "    }\n",
       "</style>\n",
       "<table border=\"1\" class=\"dataframe\">\n",
       "  <thead>\n",
       "    <tr style=\"text-align: right;\">\n",
       "      <th></th>\n",
       "      <th>None</th>\n",
       "      <th>Hybrid Heat Pump</th>\n",
       "      <th>Heat Pump</th>\n",
       "    </tr>\n",
       "  </thead>\n",
       "  <tbody>\n",
       "    <tr>\n",
       "      <th>0</th>\n",
       "      <td>608</td>\n",
       "      <td>281.0</td>\n",
       "      <td>283.0</td>\n",
       "    </tr>\n",
       "    <tr>\n",
       "      <th>1</th>\n",
       "      <td>608</td>\n",
       "      <td>531.0</td>\n",
       "      <td>263.0</td>\n",
       "    </tr>\n",
       "    <tr>\n",
       "      <th>2</th>\n",
       "      <td>608</td>\n",
       "      <td>531.0</td>\n",
       "      <td>149.0</td>\n",
       "    </tr>\n",
       "    <tr>\n",
       "      <th>3</th>\n",
       "      <td>608</td>\n",
       "      <td>531.0</td>\n",
       "      <td>217.0</td>\n",
       "    </tr>\n",
       "    <tr>\n",
       "      <th>4</th>\n",
       "      <td>608</td>\n",
       "      <td>531.0</td>\n",
       "      <td>149.0</td>\n",
       "    </tr>\n",
       "    <tr>\n",
       "      <th>...</th>\n",
       "      <td>...</td>\n",
       "      <td>...</td>\n",
       "      <td>...</td>\n",
       "    </tr>\n",
       "    <tr>\n",
       "      <th>449</th>\n",
       "      <td>608</td>\n",
       "      <td>NaN</td>\n",
       "      <td>NaN</td>\n",
       "    </tr>\n",
       "    <tr>\n",
       "      <th>450</th>\n",
       "      <td>608</td>\n",
       "      <td>NaN</td>\n",
       "      <td>NaN</td>\n",
       "    </tr>\n",
       "    <tr>\n",
       "      <th>451</th>\n",
       "      <td>317</td>\n",
       "      <td>NaN</td>\n",
       "      <td>NaN</td>\n",
       "    </tr>\n",
       "    <tr>\n",
       "      <th>452</th>\n",
       "      <td>317</td>\n",
       "      <td>NaN</td>\n",
       "      <td>NaN</td>\n",
       "    </tr>\n",
       "    <tr>\n",
       "      <th>453</th>\n",
       "      <td>685</td>\n",
       "      <td>NaN</td>\n",
       "      <td>NaN</td>\n",
       "    </tr>\n",
       "  </tbody>\n",
       "</table>\n",
       "<p>454 rows × 3 columns</p>\n",
       "</div>"
      ],
      "text/plain": [
       "     None  Hybrid Heat Pump  Heat Pump\n",
       "0     608             281.0      283.0\n",
       "1     608             531.0      263.0\n",
       "2     608             531.0      149.0\n",
       "3     608             531.0      217.0\n",
       "4     608             531.0      149.0\n",
       "..    ...               ...        ...\n",
       "449   608               NaN        NaN\n",
       "450   608               NaN        NaN\n",
       "451   317               NaN        NaN\n",
       "452   317               NaN        NaN\n",
       "453   685               NaN        NaN\n",
       "\n",
       "[454 rows x 3 columns]"
      ]
     },
     "execution_count": 7,
     "metadata": {},
     "output_type": "execute_result"
    }
   ],
   "source": [
    "#Reorganize Information for boxplot\n",
    "#The column names are the type of heat pump technology and the estimated use is listed in the rows (see output)\n",
    "df2 = pd.DataFrame(NA['Estimated Annual Energy Use (kWh/yr)'])\n",
    "df2.rename(columns={'Estimated Annual Energy Use (kWh/yr)':'None'},inplace=True)\n",
    "df2['Hybrid Heat Pump'] = pd.DataFrame(HHP['Estimated Annual Energy Use (kWh/yr)'])\n",
    "df2['Heat Pump'] = pd.DataFrame(HP['Estimated Annual Energy Use (kWh/yr)'])\n",
    "df2"
   ]
  },
  {
   "cell_type": "code",
   "execution_count": 8,
   "metadata": {},
   "outputs": [
    {
     "name": "stderr",
     "output_type": "stream",
     "text": [
      "C:\\Users\\Reshma Brown\\Anaconda3\\lib\\site-packages\\matplotlib\\cbook\\__init__.py:1395: VisibleDeprecationWarning: Creating an ndarray from ragged nested sequences (which is a list-or-tuple of lists-or-tuples-or ndarrays with different lengths or shapes) is deprecated. If you meant to do this, you must specify 'dtype=object' when creating the ndarray.\n",
      "  X = np.atleast_1d(X.T if isinstance(X, np.ndarray) else np.asarray(X))\n"
     ]
    },
    {
     "data": {
      "image/png": "[encoded data removed]",
      "text/plain": [
       "<Figure size 432x288 with 1 Axes>"
      ]
     },
     "metadata": {
      "needs_background": "light"
     },
     "output_type": "display_data"
    }
   ],
   "source": [
    "boxplot = df2.boxplot(column=['None', 'Hybrid Heat Pump', 'Heat Pump'], showmeans=True)\n",
    "plt.title(\"Annual Energy Use of Residential Clothes Dryers\")\n",
    "plt.xlabel(\"Heat Pump Technology\")\n",
    "plt.ylabel(\"Estimated Annual Energy Use (kWh/yr)\")\n",
    "plt.show()"
   ]
  },
  {
   "cell_type": "markdown",
   "metadata": {},
   "source": [
    "#### **Verdict**: Heat pump technology leads to a drastic decrease in energy consumption from clothes dryer use\n",
    "\n",
    "\n",
    "Recently, manufacturers have been adopting heat pump systems in their clothes dryer design. In a heat pump system, hot air absorbs water from the laundry and is then passed through an evaporator that removes the water and stores it in a reservoir. The air is reheated and recirculated through the drum and evaporator until the laundry is dry. This system is efficient and requires less energy due to the recirculation of air, so running each load of laundry is better for the environment. \n",
    "\n",
    "*Of the clothes dryers certified by EnergySTAR, traditional styles use an average of 607 kWh of energy annually, whereas dryers equipped with heat pump systems use 201 kWh (67% decrease)*"
   ]
  },
  {
   "cell_type": "code",
   "execution_count": null,
   "metadata": {},
   "outputs": [],
   "source": []
  }
 ],
 "metadata": {
  "kernelspec": {
   "display_name": "Python 3",
   "language": "python",
   "name": "python3"
  },
  "language_info": {
   "codemirror_mode": {
    "name": "ipython",
    "version": 3
   },
   "file_extension": ".py",
   "mimetype": "text/x-python",
   "name": "python",
   "nbconvert_exporter": "python",
   "pygments_lexer": "ipython3",
   "version": "3.7.1"
  }
 },
 "nbformat": 4,
 "nbformat_minor": 2
}
